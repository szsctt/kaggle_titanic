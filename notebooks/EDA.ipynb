{
 "cells": [
  {
   "cell_type": "markdown",
   "id": "a0d87084",
   "metadata": {},
   "source": [
    "# EDA for the kaggle titanic competition\n",
    "\n",
    "Exploratory data anlysis for the kaggle titanic competition"
   ]
  },
  {
   "cell_type": "code",
   "execution_count": 2,
   "id": "4aebe2af",
   "metadata": {},
   "outputs": [],
   "source": [
    "import pandas as pd\n",
    "import numpy as np\n",
    "import seaborn as sns\n",
    "\n",
    "sns.set_theme()"
   ]
  },
  {
   "cell_type": "markdown",
   "id": "3dd7f069",
   "metadata": {},
   "source": [
    "## Data import\n",
    "\n",
    "Import the training and testing dataset with pandas"
   ]
  },
  {
   "cell_type": "code",
   "execution_count": 24,
   "id": "f46903bd",
   "metadata": {},
   "outputs": [],
   "source": [
    "test = pd.read_csv(\"../data/test.csv\")\n",
    "train = pd.read_csv(\"../data/train.csv\")"
   ]
  },
  {
   "cell_type": "code",
   "execution_count": 25,
   "id": "b453a10c",
   "metadata": {},
   "outputs": [
    {
     "data": {
      "text/html": [
       "<div>\n",
       "<style scoped>\n",
       "    .dataframe tbody tr th:only-of-type {\n",
       "        vertical-align: middle;\n",
       "    }\n",
       "\n",
       "    .dataframe tbody tr th {\n",
       "        vertical-align: top;\n",
       "    }\n",
       "\n",
       "    .dataframe thead th {\n",
       "        text-align: right;\n",
       "    }\n",
       "</style>\n",
       "<table border=\"1\" class=\"dataframe\">\n",
       "  <thead>\n",
       "    <tr style=\"text-align: right;\">\n",
       "      <th></th>\n",
       "      <th>PassengerId</th>\n",
       "      <th>Survived</th>\n",
       "      <th>Pclass</th>\n",
       "      <th>Name</th>\n",
       "      <th>Sex</th>\n",
       "      <th>Age</th>\n",
       "      <th>SibSp</th>\n",
       "      <th>Parch</th>\n",
       "      <th>Ticket</th>\n",
       "      <th>Fare</th>\n",
       "      <th>Cabin</th>\n",
       "      <th>Embarked</th>\n",
       "    </tr>\n",
       "  </thead>\n",
       "  <tbody>\n",
       "    <tr>\n",
       "      <th>0</th>\n",
       "      <td>1</td>\n",
       "      <td>0</td>\n",
       "      <td>3</td>\n",
       "      <td>Braund, Mr. Owen Harris</td>\n",
       "      <td>male</td>\n",
       "      <td>22.0</td>\n",
       "      <td>1</td>\n",
       "      <td>0</td>\n",
       "      <td>A/5 21171</td>\n",
       "      <td>7.2500</td>\n",
       "      <td>NaN</td>\n",
       "      <td>S</td>\n",
       "    </tr>\n",
       "    <tr>\n",
       "      <th>1</th>\n",
       "      <td>2</td>\n",
       "      <td>1</td>\n",
       "      <td>1</td>\n",
       "      <td>Cumings, Mrs. John Bradley (Florence Briggs Th...</td>\n",
       "      <td>female</td>\n",
       "      <td>38.0</td>\n",
       "      <td>1</td>\n",
       "      <td>0</td>\n",
       "      <td>PC 17599</td>\n",
       "      <td>71.2833</td>\n",
       "      <td>C85</td>\n",
       "      <td>C</td>\n",
       "    </tr>\n",
       "    <tr>\n",
       "      <th>2</th>\n",
       "      <td>3</td>\n",
       "      <td>1</td>\n",
       "      <td>3</td>\n",
       "      <td>Heikkinen, Miss. Laina</td>\n",
       "      <td>female</td>\n",
       "      <td>26.0</td>\n",
       "      <td>0</td>\n",
       "      <td>0</td>\n",
       "      <td>STON/O2. 3101282</td>\n",
       "      <td>7.9250</td>\n",
       "      <td>NaN</td>\n",
       "      <td>S</td>\n",
       "    </tr>\n",
       "    <tr>\n",
       "      <th>3</th>\n",
       "      <td>4</td>\n",
       "      <td>1</td>\n",
       "      <td>1</td>\n",
       "      <td>Futrelle, Mrs. Jacques Heath (Lily May Peel)</td>\n",
       "      <td>female</td>\n",
       "      <td>35.0</td>\n",
       "      <td>1</td>\n",
       "      <td>0</td>\n",
       "      <td>113803</td>\n",
       "      <td>53.1000</td>\n",
       "      <td>C123</td>\n",
       "      <td>S</td>\n",
       "    </tr>\n",
       "    <tr>\n",
       "      <th>4</th>\n",
       "      <td>5</td>\n",
       "      <td>0</td>\n",
       "      <td>3</td>\n",
       "      <td>Allen, Mr. William Henry</td>\n",
       "      <td>male</td>\n",
       "      <td>35.0</td>\n",
       "      <td>0</td>\n",
       "      <td>0</td>\n",
       "      <td>373450</td>\n",
       "      <td>8.0500</td>\n",
       "      <td>NaN</td>\n",
       "      <td>S</td>\n",
       "    </tr>\n",
       "  </tbody>\n",
       "</table>\n",
       "</div>"
      ],
      "text/plain": [
       "   PassengerId  Survived  Pclass  \\\n",
       "0            1         0       3   \n",
       "1            2         1       1   \n",
       "2            3         1       3   \n",
       "3            4         1       1   \n",
       "4            5         0       3   \n",
       "\n",
       "                                                Name     Sex   Age  SibSp  \\\n",
       "0                            Braund, Mr. Owen Harris    male  22.0      1   \n",
       "1  Cumings, Mrs. John Bradley (Florence Briggs Th...  female  38.0      1   \n",
       "2                             Heikkinen, Miss. Laina  female  26.0      0   \n",
       "3       Futrelle, Mrs. Jacques Heath (Lily May Peel)  female  35.0      1   \n",
       "4                           Allen, Mr. William Henry    male  35.0      0   \n",
       "\n",
       "   Parch            Ticket     Fare Cabin Embarked  \n",
       "0      0         A/5 21171   7.2500   NaN        S  \n",
       "1      0          PC 17599  71.2833   C85        C  \n",
       "2      0  STON/O2. 3101282   7.9250   NaN        S  \n",
       "3      0            113803  53.1000  C123        S  \n",
       "4      0            373450   8.0500   NaN        S  "
      ]
     },
     "execution_count": 25,
     "metadata": {},
     "output_type": "execute_result"
    }
   ],
   "source": [
    "train.head()"
   ]
  },
  {
   "cell_type": "code",
   "execution_count": 26,
   "id": "c5f78a4a",
   "metadata": {},
   "outputs": [
    {
     "data": {
      "text/plain": [
       "Index(['PassengerId', 'Survived', 'Pclass', 'Name', 'Sex', 'Age', 'SibSp',\n",
       "       'Parch', 'Ticket', 'Fare', 'Cabin', 'Embarked'],\n",
       "      dtype='object')"
      ]
     },
     "execution_count": 26,
     "metadata": {},
     "output_type": "execute_result"
    }
   ],
   "source": [
    "train.columns"
   ]
  },
  {
   "cell_type": "markdown",
   "id": "63d60d55",
   "metadata": {},
   "source": [
    "## Categorical features\n",
    "\n",
    "List the possible values in categorical columns"
   ]
  },
  {
   "cell_type": "code",
   "execution_count": 27,
   "id": "6300ac2f",
   "metadata": {},
   "outputs": [
    {
     "name": "stdout",
     "output_type": "stream",
     "text": [
      "The possible values of column Survived are {0, 1}\n",
      "The possible values of column Pclass are {1, 2, 3}\n",
      "The possible values of column Sex are {'female', 'male'}\n",
      "The possible values of column SibSp are {0, 1, 2, 3, 4, 5, 8}\n",
      "The possible values of column Parch are {0, 1, 2, 3, 4, 5, 6}\n",
      "The possible values of column Cabin are {'B73', 'B30', 'B58 B60', 'E44', 'F33', 'D', 'E12', 'E24', 'C148', 'B102', 'B77', 'D47', 'B96 B98', 'D46', 'F G63', 'C93', 'D36', 'B28', 'C47', 'D6', 'C32', 'A24', 'E49', 'A32', 'B41', 'D26', 'B4', 'C78', 'D49', 'D50', 'C118', 'D30', 'C123', 'B37', 'E50', 'C85', 'E17', 'C91', 'B51 B53 B55', 'B78', 'A34', 'C2', 'D19', 'B79', 'C92', 'B82 B84', 'C7', 'B3', 'E8', 'B19', 'C50', 'B35', 'A7', 'E63', 'B20', 'E58', 'E46', 'T', 'C106', 'C70', 'A26', 'D48', 'C30', 'E25', 'D56', 'D45', 'B86', 'D20', 'C45', 'C128', 'D28', 'C125', 'C68', 'C103', 'D15', 'B69', 'D35', 'B49', 'C87', 'D7', 'C86', 'C22 C26', 'B101', 'C111', 'D37', 'E77', 'E33', 'C99', 'E38', 'B50', 'A36', 'A6', 'C90', 'B71', 'C62 C64', 'E36', nan, 'A10', 'F38', 'E31', 'C126', 'C101', 'A5', 'C83', 'C54', 'F G73', 'A19', 'B18', 'D10 D12', 'E34', 'G6', 'B22', 'C104', 'D17', 'E121', 'B94', 'A16', 'B57 B59 B63 B66', 'C110', 'D21', 'E40', 'B5', 'A20', 'A31', 'C82', 'A23', 'B80', 'C46', 'A14', 'F2', 'F E69', 'D33', 'E68', 'C65', 'D11', 'B42', 'E10', 'E101', 'C49', 'C23 C25 C27', 'C52', 'B38', 'D9', 'C95', 'C124', 'E67', 'F4', 'B39'}\n",
      "The possible values of column Embarked are {'Q', 'C', nan, 'S'}\n"
     ]
    }
   ],
   "source": [
    "# check the possible values of categorical columns\n",
    "\n",
    "for col in train.columns:\n",
    "    \n",
    "    if col in {'PassengerId', 'Name', 'Ticket', 'Fare', 'Age'}:\n",
    "        continue\n",
    "    print(f\"The possible values of column {col} are {set(train[col])}\")\n"
   ]
  },
  {
   "cell_type": "markdown",
   "id": "568eb137",
   "metadata": {},
   "source": [
    "Convert column 'Sex' to numbers: 1 for female, 0 for male"
   ]
  },
  {
   "cell_type": "code",
   "execution_count": 28,
   "id": "67176560",
   "metadata": {},
   "outputs": [
    {
     "name": "stdout",
     "output_type": "stream",
     "text": [
      "The possible values of column Sex are {0, 1}\n"
     ]
    }
   ],
   "source": [
    "train['Sex'] = [1 if i == 'female' else 0 for i in train['Sex']]\n",
    "\n",
    "col = 'Sex'\n",
    "print(f\"The possible values of column {col} are {set(train[col])}\")"
   ]
  },
  {
   "cell_type": "markdown",
   "id": "c0639be0",
   "metadata": {},
   "source": [
    "How many rows in total?"
   ]
  },
  {
   "cell_type": "code",
   "execution_count": 45,
   "id": "80aacbd8",
   "metadata": {},
   "outputs": [
    {
     "data": {
      "text/plain": [
       "(891, 12)"
      ]
     },
     "execution_count": 45,
     "metadata": {},
     "output_type": "execute_result"
    }
   ],
   "source": [
    "train.shape"
   ]
  },
  {
   "cell_type": "markdown",
   "id": "39f7c5fa",
   "metadata": {},
   "source": [
    "How many rows with missing values?"
   ]
  },
  {
   "cell_type": "code",
   "execution_count": 43,
   "id": "d4f95e20",
   "metadata": {},
   "outputs": [
    {
     "data": {
      "text/plain": [
       "PassengerId      0\n",
       "Survived         0\n",
       "Pclass           0\n",
       "Name             0\n",
       "Sex              0\n",
       "Age            177\n",
       "SibSp            0\n",
       "Parch            0\n",
       "Ticket           0\n",
       "Fare             0\n",
       "Cabin          687\n",
       "Embarked         2\n",
       "dtype: int64"
      ]
     },
     "execution_count": 43,
     "metadata": {},
     "output_type": "execute_result"
    }
   ],
   "source": [
    "train.isna().sum()\n"
   ]
  },
  {
   "cell_type": "code",
   "execution_count": null,
   "id": "43c01079",
   "metadata": {},
   "outputs": [],
   "source": [
    "How many rows remain if we drop all rows that have NaN in the age column?"
   ]
  },
  {
   "cell_type": "markdown",
   "id": "de5af249",
   "metadata": {},
   "source": [
    "## Numeric features\n",
    "\n",
    "Plot a few of the numeric features."
   ]
  },
  {
   "cell_type": "code",
   "execution_count": 41,
   "id": "0db7030a",
   "metadata": {},
   "outputs": [
    {
     "data": {
      "text/plain": [
       "<AxesSubplot:xlabel='count', ylabel='Pclass'>"
      ]
     },
     "execution_count": 41,
     "metadata": {},
     "output_type": "execute_result"
    },
    {
     "data": {
      "image/png": "[encoded data removed]",
      "text/plain": [
       "<Figure size 640x480 with 1 Axes>"
      ]
     },
     "metadata": {},
     "output_type": "display_data"
    }
   ],
   "source": [
    "#sns.kdeplot(data=train, x=\"Pclass\", hue=\"Survived\", multiple=\"stack\")\n",
    "sns.countplot(data = train, y=\"Pclass\", hue=\"Survived\")"
   ]
  },
  {
   "cell_type": "code",
   "execution_count": 40,
   "id": "2768eb52",
   "metadata": {},
   "outputs": [
    {
     "data": {
      "text/plain": [
       "<AxesSubplot:xlabel='count', ylabel='Sex'>"
      ]
     },
     "execution_count": 40,
     "metadata": {},
     "output_type": "execute_result"
    },
    {
     "data": {
      "image/png": "[encoded data removed]",
      "text/plain": [
       "<Figure size 640x480 with 1 Axes>"
      ]
     },
     "metadata": {},
     "output_type": "display_data"
    }
   ],
   "source": [
    "#sns.kdeplot(data=train, x=\"Sex\", hue=\"Survived\", multiple=\"stack\")\n",
    "sns.countplot(data = train, y=\"Sex\", hue=\"Survived\")"
   ]
  },
  {
   "cell_type": "code",
   "execution_count": 39,
   "id": "006138f2",
   "metadata": {},
   "outputs": [
    {
     "data": {
      "text/plain": [
       "<AxesSubplot:xlabel='count', ylabel='SibSp'>"
      ]
     },
     "execution_count": 39,
     "metadata": {},
     "output_type": "execute_result"
    },
    {
     "data": {
      "image/png": "[encoded data removed]",
      "text/plain": [
       "<Figure size 640x480 with 1 Axes>"
      ]
     },
     "metadata": {},
     "output_type": "display_data"
    }
   ],
   "source": [
    "#sns.kdeplot(data=train, x=\"SibSp\", hue=\"Survived\", multiple=\"stack\")\n",
    "sns.countplot(data = train, y=\"SibSp\", hue=\"Survived\")"
   ]
  },
  {
   "cell_type": "code",
   "execution_count": 38,
   "id": "e9d043f9",
   "metadata": {},
   "outputs": [
    {
     "data": {
      "text/plain": [
       "<AxesSubplot:xlabel='count', ylabel='Parch'>"
      ]
     },
     "execution_count": 38,
     "metadata": {},
     "output_type": "execute_result"
    },
    {
     "data": {
      "image/png": "[encoded data removed]",
      "text/plain": [
       "<Figure size 640x480 with 1 Axes>"
      ]
     },
     "metadata": {},
     "output_type": "display_data"
    }
   ],
   "source": [
    "#sns.kdeplot(data=train, x=\"Parch\", hue=\"Survived\", multiple=\"stack\")\n",
    "sns.countplot(data = train, y=\"Parch\", hue=\"Survived\")"
   ]
  },
  {
   "cell_type": "code",
   "execution_count": 37,
   "id": "86aa5b99",
   "metadata": {},
   "outputs": [
    {
     "data": {
      "text/plain": [
       "<seaborn.axisgrid.FacetGrid at 0x141da1630>"
      ]
     },
     "execution_count": 37,
     "metadata": {},
     "output_type": "execute_result"
    },
    {
     "data": {
      "image/png": "[encoded data removed]",
      "text/plain": [
       "<Figure size 500x500 with 1 Axes>"
      ]
     },
     "metadata": {},
     "output_type": "display_data"
    }
   ],
   "source": [
    "#sns.kdeplot(data=train, x=\"Fare\", hue=\"Survived\", multiple=\"stack\")\n",
    "sns.catplot(data=train, kind=\"violin\", x=\"Survived\", y=\"Fare\")\n"
   ]
  },
  {
   "cell_type": "code",
   "execution_count": 42,
   "id": "da26d0bf",
   "metadata": {},
   "outputs": [
    {
     "data": {
      "text/plain": [
       "<AxesSubplot:xlabel='count', ylabel='Embarked'>"
      ]
     },
     "execution_count": 42,
     "metadata": {},
     "output_type": "execute_result"
    },
    {
     "data": {
      "image/png": "[encoded data removed]",
      "text/plain": [
       "<Figure size 640x480 with 1 Axes>"
      ]
     },
     "metadata": {},
     "output_type": "display_data"
    }
   ],
   "source": [
    "sns.countplot(data = train, y=\"Embarked\", hue=\"Survived\")"
   ]
  },
  {
   "cell_type": "code",
   "execution_count": null,
   "id": "d9007ce0",
   "metadata": {},
   "outputs": [],
   "source": []
  }
 ],
 "metadata": {
  "kernelspec": {
   "display_name": "Python 3 (ipykernel)",
   "language": "python",
   "name": "python3"
  },
  "language_info": {
   "codemirror_mode": {
    "name": "ipython",
    "version": 3
   },
   "file_extension": ".py",
   "mimetype": "text/x-python",
   "name": "python",
   "nbconvert_exporter": "python",
   "pygments_lexer": "ipython3",
   "version": "3.10.5"
  }
 },
 "nbformat": 4,
 "nbformat_minor": 5
}
